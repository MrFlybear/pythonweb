{
 "cells": [
  {
   "cell_type": "code",
   "execution_count": 11,
   "metadata": {},
   "outputs": [
    {
     "name": "stdout",
     "output_type": "stream",
     "text": [
      "['.ipynb_checkpoints', 'awesome-python3-webapp', '第一天创建文件夹.ipynb']\n",
      "['backup', 'conf', 'dist', 'ios', 'LICENSE', 'www']\n",
      "['static', 'templates']\n"
     ]
    }
   ],
   "source": [
    "#第一天新建文件夹\n",
    "import os\n",
    "os.chdir(r'C:\\Users\\xxcmt\\Desktop\\文档\\Python web app')\n",
    "os.makedirs(r'awesome-python3-webapp',exist_ok=True)\n",
    "print(os.listdir())\n",
    "os.chdir(r'awesome-python3-webapp')\n",
    "os.makedirs(r'backup',exist_ok=True)\n",
    "os.makedirs(r'conf',exist_ok=True)\n",
    "os.makedirs(r'dist',exist_ok=True)\n",
    "os.makedirs(r'www',exist_ok=True)\n",
    "os.makedirs(r'ios',exist_ok=True)\n",
    "os.makedirs(r'LICENSE',exist_ok=True)\n",
    "print(os.listdir())\n",
    "os.chdir(r'www')\n",
    "os.makedirs(r'static',exist_ok=True)\n",
    "os.makedirs(r'templates',exist_ok=True)\n",
    "print(os.listdir())\n",
    "\n"
   ]
  },
  {
   "cell_type": "code",
   "execution_count": 17,
   "metadata": {},
   "outputs": [],
   "source": [
    "#版本二\n",
    "import os\n",
    "os.makedirs(r'C:\\Users\\xxcmt\\Desktop\\文档\\automate_online-materials\\Python web app',exist_ok=True)\n",
    "rootfolder=r'C:\\Users\\xxcmt\\Desktop\\文档\\automate_online-materials\\Python web app'\n",
    "folder_1=['backup','conf','dist','www','ios','LICENSE']\n",
    "folder_www=['static','templates']\n",
    "for f in folder_1:\n",
    "    d=os.path.join(rootfolder,f)\n",
    "    os.makedirs(d,exist_ok=True)\n",
    "    if f=='www':\n",
    "        for fw in folder_www:\n",
    "            os.makedirs(os.path.join(rootfolder,'www\\%s'%fw))\n",
    "        \n",
    "\n"
   ]
  }
 ],
 "metadata": {
  "kernelspec": {
   "display_name": "Python 3",
   "language": "python",
   "name": "python3"
  },
  "language_info": {
   "codemirror_mode": {
    "name": "ipython",
    "version": 3
   },
   "file_extension": ".py",
   "mimetype": "text/x-python",
   "name": "python",
   "nbconvert_exporter": "python",
   "pygments_lexer": "ipython3",
   "version": "3.7.3"
  }
 },
 "nbformat": 4,
 "nbformat_minor": 2
}
